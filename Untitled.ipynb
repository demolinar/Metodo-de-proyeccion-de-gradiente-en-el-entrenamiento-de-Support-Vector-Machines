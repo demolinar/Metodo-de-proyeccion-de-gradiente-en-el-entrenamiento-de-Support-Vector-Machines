{
 "cells": [
  {
   "cell_type": "code",
   "execution_count": 4,
   "id": "11a876d5",
   "metadata": {},
   "outputs": [],
   "source": [
    "import numpy as np \n",
    "import cv2\n",
    "import glob\n",
    "import os\n",
    "import matplotlib.pyplot as plt\n",
    "import string\n",
    "from mlxtend.plotting import plot_decision_regions\n",
    "from mpl_toolkits.mplot3d import Axes3D\n",
    "from sklearn.decomposition import PCA\n",
    "from sklearn.preprocessing import StandardScaler\n",
    "from sklearn.neighbors import KNeighborsClassifier\n",
    "from sklearn.tree import DecisionTreeClassifier \n",
    "from sklearn.model_selection import train_test_split, cross_val_score\n",
    "from sklearn.utils.multiclass import unique_labels\n",
    "from sklearn import metrics\n",
    "from sklearn.svm import SVC"
   ]
  },
  {
   "cell_type": "code",
   "execution_count": 9,
   "id": "10639cb8",
   "metadata": {},
   "outputs": [
    {
     "name": "stdout",
     "output_type": "stream",
     "text": [
      "['LICENSE', 'readme.md', '.ipynb_checkpoints', 'Untitled.ipynb', 'Fruit-Images-Dataset']\n"
     ]
    }
   ],
   "source": [
    "print(os.listdir(\"/home/demolinar/my_project_dir/Análisis Numérico\"))"
   ]
  },
  {
   "cell_type": "code",
   "execution_count": 5,
   "id": "f5a58cff",
   "metadata": {},
   "outputs": [
    {
     "data": {
      "text/plain": [
       "'/home/demolinar/my_project_dir/Análisis Numérico'"
      ]
     },
     "execution_count": 5,
     "metadata": {},
     "output_type": "execute_result"
    }
   ],
   "source": [
    "pwd"
   ]
  }
 ],
 "metadata": {
  "kernelspec": {
   "display_name": "Python 3 (ipykernel)",
   "language": "python",
   "name": "python3"
  },
  "language_info": {
   "codemirror_mode": {
    "name": "ipython",
    "version": 3
   },
   "file_extension": ".py",
   "mimetype": "text/x-python",
   "name": "python",
   "nbconvert_exporter": "python",
   "pygments_lexer": "ipython3",
   "version": "3.8.10"
  }
 },
 "nbformat": 4,
 "nbformat_minor": 5
}
